{
 "cells": [
  {
   "cell_type": "markdown",
   "metadata": {},
   "source": [
    "## (2) Average Passengers, Regular vs Joint Holiday Weeks"
   ]
  },
  {
   "cell_type": "code",
   "execution_count": 2,
   "metadata": {},
   "outputs": [
    {
     "data": {
      "text/plain": [
       "(6000, 17)"
      ]
     },
     "execution_count": 2,
     "metadata": {},
     "output_type": "execute_result"
    }
   ],
   "source": [
    "import pandas as pd\n",
    "from matplotlib import pyplot as plot\n",
    "data = pd.read_csv(\"../datasets/Ruter_data.csv\", delimiter=';')\n",
    "data.shape"
   ]
  },
  {
   "cell_type": "code",
   "execution_count": 3,
   "metadata": {},
   "outputs": [],
   "source": [
    "# Lets grab passengers and date\n",
    "pad = data[['Dato', 'Passasjerer_Ombord']]"
   ]
  },
  {
   "cell_type": "code",
   "execution_count": 4,
   "metadata": {},
   "outputs": [],
   "source": [
    "# Had some trouble getting dates in proper format (ddmmyyyy), so i made sure i worked every time with this method\n",
    "def format_date(date) : \n",
    "    d, m, y = map(int, date.split('/'))\n",
    "    return pd.Timestamp(day=d, month=m, year=y)"
   ]
  },
  {
   "cell_type": "code",
   "execution_count": 5,
   "metadata": {},
   "outputs": [
    {
     "data": {
      "text/html": [
       "<div>\n",
       "<style scoped>\n",
       "    .dataframe tbody tr th:only-of-type {\n",
       "        vertical-align: middle;\n",
       "    }\n",
       "\n",
       "    .dataframe tbody tr th {\n",
       "        vertical-align: top;\n",
       "    }\n",
       "\n",
       "    .dataframe thead th {\n",
       "        text-align: right;\n",
       "    }\n",
       "</style>\n",
       "<table border=\"1\" class=\"dataframe\">\n",
       "  <thead>\n",
       "    <tr style=\"text-align: right;\">\n",
       "      <th></th>\n",
       "      <th>Dato</th>\n",
       "      <th>Passasjerer_Ombord</th>\n",
       "      <th>Day_of_Week</th>\n",
       "      <th>Week</th>\n",
       "      <th>National_Holiday</th>\n",
       "    </tr>\n",
       "  </thead>\n",
       "  <tbody>\n",
       "    <tr>\n",
       "      <th>0</th>\n",
       "      <td>10/08/2020</td>\n",
       "      <td>5</td>\n",
       "      <td>0</td>\n",
       "      <td>33</td>\n",
       "      <td>False</td>\n",
       "    </tr>\n",
       "    <tr>\n",
       "      <th>1</th>\n",
       "      <td>15/08/2020</td>\n",
       "      <td>5</td>\n",
       "      <td>5</td>\n",
       "      <td>33</td>\n",
       "      <td>False</td>\n",
       "    </tr>\n",
       "    <tr>\n",
       "      <th>2</th>\n",
       "      <td>03/08/2020</td>\n",
       "      <td>6</td>\n",
       "      <td>0</td>\n",
       "      <td>32</td>\n",
       "      <td>False</td>\n",
       "    </tr>\n",
       "    <tr>\n",
       "      <th>3</th>\n",
       "      <td>27/07/2020</td>\n",
       "      <td>10</td>\n",
       "      <td>0</td>\n",
       "      <td>31</td>\n",
       "      <td>False</td>\n",
       "    </tr>\n",
       "    <tr>\n",
       "      <th>4</th>\n",
       "      <td>27/08/2020</td>\n",
       "      <td>10</td>\n",
       "      <td>3</td>\n",
       "      <td>35</td>\n",
       "      <td>False</td>\n",
       "    </tr>\n",
       "    <tr>\n",
       "      <th>...</th>\n",
       "      <td>...</td>\n",
       "      <td>...</td>\n",
       "      <td>...</td>\n",
       "      <td>...</td>\n",
       "      <td>...</td>\n",
       "    </tr>\n",
       "    <tr>\n",
       "      <th>5995</th>\n",
       "      <td>10/06/2020</td>\n",
       "      <td>2</td>\n",
       "      <td>2</td>\n",
       "      <td>24</td>\n",
       "      <td>False</td>\n",
       "    </tr>\n",
       "    <tr>\n",
       "      <th>5996</th>\n",
       "      <td>23/06/2020</td>\n",
       "      <td>2</td>\n",
       "      <td>1</td>\n",
       "      <td>26</td>\n",
       "      <td>False</td>\n",
       "    </tr>\n",
       "    <tr>\n",
       "      <th>5997</th>\n",
       "      <td>11/06/2020</td>\n",
       "      <td>3</td>\n",
       "      <td>3</td>\n",
       "      <td>24</td>\n",
       "      <td>False</td>\n",
       "    </tr>\n",
       "    <tr>\n",
       "      <th>5998</th>\n",
       "      <td>13/08/2020</td>\n",
       "      <td>5</td>\n",
       "      <td>3</td>\n",
       "      <td>33</td>\n",
       "      <td>False</td>\n",
       "    </tr>\n",
       "    <tr>\n",
       "      <th>5999</th>\n",
       "      <td>05/08/2020</td>\n",
       "      <td>-5</td>\n",
       "      <td>2</td>\n",
       "      <td>32</td>\n",
       "      <td>False</td>\n",
       "    </tr>\n",
       "  </tbody>\n",
       "</table>\n",
       "<p>6000 rows × 5 columns</p>\n",
       "</div>"
      ],
      "text/plain": [
       "            Dato  Passasjerer_Ombord  Day_of_Week  Week  National_Holiday\n",
       "0     10/08/2020                   5            0    33             False\n",
       "1     15/08/2020                   5            5    33             False\n",
       "2     03/08/2020                   6            0    32             False\n",
       "3     27/07/2020                  10            0    31             False\n",
       "4     27/08/2020                  10            3    35             False\n",
       "...          ...                 ...          ...   ...               ...\n",
       "5995  10/06/2020                   2            2    24             False\n",
       "5996  23/06/2020                   2            1    26             False\n",
       "5997  11/06/2020                   3            3    24             False\n",
       "5998  13/08/2020                   5            3    33             False\n",
       "5999  05/08/2020                  -5            2    32             False\n",
       "\n",
       "[6000 rows x 5 columns]"
      ]
     },
     "execution_count": 5,
     "metadata": {},
     "output_type": "execute_result"
    }
   ],
   "source": [
    "# We calculate and insert three new coloumns\n",
    "pad.insert(2, 'Day_of_Week',      [format_date(pad['Dato'][i]).dayofweek            for i in range(len(pad))], True)\n",
    "pad.insert(3, 'Week',             [format_date(pad['Dato'][i]).week                 for i in range(len(pad))], True)\n",
    "pad.insert(4, 'National_Holiday', [(pad['Week'][i] > 27) and (pad['Week'][i] < 31)  for i in range(len(pad))], True)\n",
    "pad"
   ]
  },
  {
   "cell_type": "code",
   "execution_count": 36,
   "metadata": {},
   "outputs": [
    {
     "data": {
      "text/plain": [
       "Text(0, 0.5, 'Average Passengers')"
      ]
     },
     "execution_count": 36,
     "metadata": {},
     "output_type": "execute_result"
    },
    {
     "data": {
      "image/png": "[encoded data removed]",
      "text/plain": [
       "<Figure size 720x576 with 1 Axes>"
      ]
     },
     "metadata": {
      "needs_background": "light"
     },
     "output_type": "display_data"
    }
   ],
   "source": [
    "# We can then group by the three variables we don't want to sum, and then create a pivot plot with those.\n",
    "s = pad.groupby(by=(['Day_of_Week', 'Week', 'National_Holiday'])).sum()\n",
    "pv = pd.pivot_table(s, index='National_Holiday', columns='Day_of_Week', values='Passasjerer_Ombord')\n",
    "ax = pv.plot( kind='bar', figsize=(10, 8), title='Regular vs Joint Holiday Week', rot=0)\n",
    "ax.set_xlabel('')\n",
    "ax.set_xticklabels(['Regular Week', 'Joint Vacation Week'])\n",
    "ax.set_ylabel('Average Passengers')"
   ]
  },
  {
   "cell_type": "code",
   "execution_count": null,
   "metadata": {},
   "outputs": [],
   "source": []
  }
 ],
 "metadata": {
  "kernelspec": {
   "display_name": "Python 3",
   "language": "python",
   "name": "python3"
  },
  "language_info": {
   "codemirror_mode": {
    "name": "ipython",
    "version": 3
   },
   "file_extension": ".py",
   "mimetype": "text/x-python",
   "name": "python",
   "nbconvert_exporter": "python",
   "pygments_lexer": "ipython3",
   "version": "3.8.5"
  }
 },
 "nbformat": 4,
 "nbformat_minor": 4
}
