{
 "cells": [
  {
   "cell_type": "markdown",
   "metadata": {},
   "source": [
    "## (3) Mean Passengers per Weekday per Hour"
   ]
  },
  {
   "cell_type": "code",
   "execution_count": 52,
   "metadata": {},
   "outputs": [
    {
     "data": {
      "text/plain": [
       "(6000, 17)"
      ]
     },
     "execution_count": 52,
     "metadata": {},
     "output_type": "execute_result"
    }
   ],
   "source": [
    "import pandas as pd\n",
    "import numpy as np\n",
    "import seaborn as sns\n",
    "from matplotlib import pyplot as plot\n",
    "data = pd.read_csv(\"../datasets/Ruter_data.csv\", delimiter=';')\n",
    "data.shape"
   ]
  },
  {
   "cell_type": "code",
   "execution_count": 53,
   "metadata": {
    "scrolled": true
   },
   "outputs": [],
   "source": [
    "# We grab the needed data\n",
    "pad = data[['Dato', 'Tidspunkt_Faktisk_Avgang_Holdeplass_Fra', 'Passasjerer_Ombord']]"
   ]
  },
  {
   "cell_type": "markdown",
   "metadata": {},
   "source": [
    "Departure time is non-existant for some entries, we need to remove them before continuing."
   ]
  },
  {
   "cell_type": "code",
   "execution_count": 54,
   "metadata": {},
   "outputs": [
    {
     "data": {
      "text/html": [
       "<div>\n",
       "<style scoped>\n",
       "    .dataframe tbody tr th:only-of-type {\n",
       "        vertical-align: middle;\n",
       "    }\n",
       "\n",
       "    .dataframe tbody tr th {\n",
       "        vertical-align: top;\n",
       "    }\n",
       "\n",
       "    .dataframe thead th {\n",
       "        text-align: right;\n",
       "    }\n",
       "</style>\n",
       "<table border=\"1\" class=\"dataframe\">\n",
       "  <thead>\n",
       "    <tr style=\"text-align: right;\">\n",
       "      <th></th>\n",
       "      <th>Dato</th>\n",
       "      <th>Tidspunkt_Faktisk_Avgang_Holdeplass_Fra</th>\n",
       "      <th>Passasjerer_Ombord</th>\n",
       "    </tr>\n",
       "  </thead>\n",
       "  <tbody>\n",
       "    <tr>\n",
       "      <th>0</th>\n",
       "      <td>10/08/2020</td>\n",
       "      <td>10:53:59</td>\n",
       "      <td>5</td>\n",
       "    </tr>\n",
       "    <tr>\n",
       "      <th>1</th>\n",
       "      <td>15/08/2020</td>\n",
       "      <td>13:12:26</td>\n",
       "      <td>5</td>\n",
       "    </tr>\n",
       "    <tr>\n",
       "      <th>2</th>\n",
       "      <td>03/08/2020</td>\n",
       "      <td>10:19:21</td>\n",
       "      <td>6</td>\n",
       "    </tr>\n",
       "    <tr>\n",
       "      <th>3</th>\n",
       "      <td>27/07/2020</td>\n",
       "      <td>13:52:26</td>\n",
       "      <td>10</td>\n",
       "    </tr>\n",
       "    <tr>\n",
       "      <th>4</th>\n",
       "      <td>27/08/2020</td>\n",
       "      <td>07:34:53</td>\n",
       "      <td>10</td>\n",
       "    </tr>\n",
       "    <tr>\n",
       "      <th>...</th>\n",
       "      <td>...</td>\n",
       "      <td>...</td>\n",
       "      <td>...</td>\n",
       "    </tr>\n",
       "    <tr>\n",
       "      <th>5994</th>\n",
       "      <td>10/06/2020</td>\n",
       "      <td>16:23:48</td>\n",
       "      <td>2</td>\n",
       "    </tr>\n",
       "    <tr>\n",
       "      <th>5995</th>\n",
       "      <td>23/06/2020</td>\n",
       "      <td>06:00:40</td>\n",
       "      <td>2</td>\n",
       "    </tr>\n",
       "    <tr>\n",
       "      <th>5996</th>\n",
       "      <td>11/06/2020</td>\n",
       "      <td>17:43:10</td>\n",
       "      <td>3</td>\n",
       "    </tr>\n",
       "    <tr>\n",
       "      <th>5997</th>\n",
       "      <td>13/08/2020</td>\n",
       "      <td>06:00:23</td>\n",
       "      <td>5</td>\n",
       "    </tr>\n",
       "    <tr>\n",
       "      <th>5998</th>\n",
       "      <td>05/08/2020</td>\n",
       "      <td>13:52:48</td>\n",
       "      <td>-5</td>\n",
       "    </tr>\n",
       "  </tbody>\n",
       "</table>\n",
       "<p>5999 rows × 3 columns</p>\n",
       "</div>"
      ],
      "text/plain": [
       "            Dato Tidspunkt_Faktisk_Avgang_Holdeplass_Fra  Passasjerer_Ombord\n",
       "0     10/08/2020                                10:53:59                   5\n",
       "1     15/08/2020                                13:12:26                   5\n",
       "2     03/08/2020                                10:19:21                   6\n",
       "3     27/07/2020                                13:52:26                  10\n",
       "4     27/08/2020                                07:34:53                  10\n",
       "...          ...                                     ...                 ...\n",
       "5994  10/06/2020                                16:23:48                   2\n",
       "5995  23/06/2020                                06:00:40                   2\n",
       "5996  11/06/2020                                17:43:10                   3\n",
       "5997  13/08/2020                                06:00:23                   5\n",
       "5998  05/08/2020                                13:52:48                  -5\n",
       "\n",
       "[5999 rows x 3 columns]"
      ]
     },
     "execution_count": 54,
     "metadata": {},
     "output_type": "execute_result"
    }
   ],
   "source": [
    "pad = pad[data.Tidspunkt_Faktisk_Avgang_Holdeplass_Fra != ':']\n",
    "pad.reset_index(inplace=True, drop=True)\n",
    "pad"
   ]
  },
  {
   "cell_type": "markdown",
   "metadata": {},
   "source": [
    "Further more, time could be given in a format exceeding 24 hours, we need to correct that to be able to use pandas datetime library.\n",
    "\n",
    "Ex: **01/01/2020 25:00:00** -> **02/01/2020 01:00:00**"
   ]
  },
  {
   "cell_type": "code",
   "execution_count": 55,
   "metadata": {},
   "outputs": [
    {
     "data": {
      "text/html": [
       "<div>\n",
       "<style scoped>\n",
       "    .dataframe tbody tr th:only-of-type {\n",
       "        vertical-align: middle;\n",
       "    }\n",
       "\n",
       "    .dataframe tbody tr th {\n",
       "        vertical-align: top;\n",
       "    }\n",
       "\n",
       "    .dataframe thead th {\n",
       "        text-align: right;\n",
       "    }\n",
       "</style>\n",
       "<table border=\"1\" class=\"dataframe\">\n",
       "  <thead>\n",
       "    <tr style=\"text-align: right;\">\n",
       "      <th></th>\n",
       "      <th>Dato</th>\n",
       "      <th>Tidspunkt_Faktisk_Avgang_Holdeplass_Fra</th>\n",
       "      <th>Passasjerer_Ombord</th>\n",
       "      <th>Hour</th>\n",
       "    </tr>\n",
       "  </thead>\n",
       "  <tbody>\n",
       "    <tr>\n",
       "      <th>0</th>\n",
       "      <td>10/08/2020</td>\n",
       "      <td>10:53:59</td>\n",
       "      <td>5</td>\n",
       "      <td>10</td>\n",
       "    </tr>\n",
       "    <tr>\n",
       "      <th>1</th>\n",
       "      <td>15/08/2020</td>\n",
       "      <td>13:12:26</td>\n",
       "      <td>5</td>\n",
       "      <td>13</td>\n",
       "    </tr>\n",
       "    <tr>\n",
       "      <th>2</th>\n",
       "      <td>03/08/2020</td>\n",
       "      <td>10:19:21</td>\n",
       "      <td>6</td>\n",
       "      <td>10</td>\n",
       "    </tr>\n",
       "    <tr>\n",
       "      <th>3</th>\n",
       "      <td>27/07/2020</td>\n",
       "      <td>13:52:26</td>\n",
       "      <td>10</td>\n",
       "      <td>13</td>\n",
       "    </tr>\n",
       "    <tr>\n",
       "      <th>4</th>\n",
       "      <td>27/08/2020</td>\n",
       "      <td>07:34:53</td>\n",
       "      <td>10</td>\n",
       "      <td>7</td>\n",
       "    </tr>\n",
       "    <tr>\n",
       "      <th>...</th>\n",
       "      <td>...</td>\n",
       "      <td>...</td>\n",
       "      <td>...</td>\n",
       "      <td>...</td>\n",
       "    </tr>\n",
       "    <tr>\n",
       "      <th>5994</th>\n",
       "      <td>10/06/2020</td>\n",
       "      <td>16:23:48</td>\n",
       "      <td>2</td>\n",
       "      <td>16</td>\n",
       "    </tr>\n",
       "    <tr>\n",
       "      <th>5995</th>\n",
       "      <td>23/06/2020</td>\n",
       "      <td>06:00:40</td>\n",
       "      <td>2</td>\n",
       "      <td>6</td>\n",
       "    </tr>\n",
       "    <tr>\n",
       "      <th>5996</th>\n",
       "      <td>11/06/2020</td>\n",
       "      <td>17:43:10</td>\n",
       "      <td>3</td>\n",
       "      <td>17</td>\n",
       "    </tr>\n",
       "    <tr>\n",
       "      <th>5997</th>\n",
       "      <td>13/08/2020</td>\n",
       "      <td>06:00:23</td>\n",
       "      <td>5</td>\n",
       "      <td>6</td>\n",
       "    </tr>\n",
       "    <tr>\n",
       "      <th>5998</th>\n",
       "      <td>05/08/2020</td>\n",
       "      <td>13:52:48</td>\n",
       "      <td>-5</td>\n",
       "      <td>13</td>\n",
       "    </tr>\n",
       "  </tbody>\n",
       "</table>\n",
       "<p>5999 rows × 4 columns</p>\n",
       "</div>"
      ],
      "text/plain": [
       "            Dato Tidspunkt_Faktisk_Avgang_Holdeplass_Fra  Passasjerer_Ombord  \\\n",
       "0     10/08/2020                                10:53:59                   5   \n",
       "1     15/08/2020                                13:12:26                   5   \n",
       "2     03/08/2020                                10:19:21                   6   \n",
       "3     27/07/2020                                13:52:26                  10   \n",
       "4     27/08/2020                                07:34:53                  10   \n",
       "...          ...                                     ...                 ...   \n",
       "5994  10/06/2020                                16:23:48                   2   \n",
       "5995  23/06/2020                                06:00:40                   2   \n",
       "5996  11/06/2020                                17:43:10                   3   \n",
       "5997  13/08/2020                                06:00:23                   5   \n",
       "5998  05/08/2020                                13:52:48                  -5   \n",
       "\n",
       "      Hour  \n",
       "0       10  \n",
       "1       13  \n",
       "2       10  \n",
       "3       13  \n",
       "4        7  \n",
       "...    ...  \n",
       "5994    16  \n",
       "5995     6  \n",
       "5996    17  \n",
       "5997     6  \n",
       "5998    13  \n",
       "\n",
       "[5999 rows x 4 columns]"
      ]
     },
     "execution_count": 55,
     "metadata": {},
     "output_type": "execute_result"
    }
   ],
   "source": [
    "# Helper function\n",
    "def get_hour(time) : return int(time[0:2])\n",
    "\n",
    "# We insert a new column containing the hour, here we keep the original 24h+ time format for later use\n",
    "pad.insert(3, 'Hour', [get_hour(pad['Tidspunkt_Faktisk_Avgang_Holdeplass_Fra'][i]) for i in range(len(pad))], True)\n",
    "pad"
   ]
  },
  {
   "cell_type": "code",
   "execution_count": 56,
   "metadata": {},
   "outputs": [
    {
     "data": {
      "text/html": [
       "<div>\n",
       "<style scoped>\n",
       "    .dataframe tbody tr th:only-of-type {\n",
       "        vertical-align: middle;\n",
       "    }\n",
       "\n",
       "    .dataframe tbody tr th {\n",
       "        vertical-align: top;\n",
       "    }\n",
       "\n",
       "    .dataframe thead th {\n",
       "        text-align: right;\n",
       "    }\n",
       "</style>\n",
       "<table border=\"1\" class=\"dataframe\">\n",
       "  <thead>\n",
       "    <tr style=\"text-align: right;\">\n",
       "      <th></th>\n",
       "      <th>Day_of_Week</th>\n",
       "      <th>Hour</th>\n",
       "      <th>Passasjerer_Ombord</th>\n",
       "    </tr>\n",
       "  </thead>\n",
       "  <tbody>\n",
       "    <tr>\n",
       "      <th>0</th>\n",
       "      <td>0</td>\n",
       "      <td>10</td>\n",
       "      <td>5</td>\n",
       "    </tr>\n",
       "    <tr>\n",
       "      <th>1</th>\n",
       "      <td>5</td>\n",
       "      <td>13</td>\n",
       "      <td>5</td>\n",
       "    </tr>\n",
       "    <tr>\n",
       "      <th>2</th>\n",
       "      <td>0</td>\n",
       "      <td>10</td>\n",
       "      <td>6</td>\n",
       "    </tr>\n",
       "    <tr>\n",
       "      <th>3</th>\n",
       "      <td>0</td>\n",
       "      <td>13</td>\n",
       "      <td>10</td>\n",
       "    </tr>\n",
       "    <tr>\n",
       "      <th>4</th>\n",
       "      <td>3</td>\n",
       "      <td>7</td>\n",
       "      <td>10</td>\n",
       "    </tr>\n",
       "    <tr>\n",
       "      <th>...</th>\n",
       "      <td>...</td>\n",
       "      <td>...</td>\n",
       "      <td>...</td>\n",
       "    </tr>\n",
       "    <tr>\n",
       "      <th>5994</th>\n",
       "      <td>2</td>\n",
       "      <td>16</td>\n",
       "      <td>2</td>\n",
       "    </tr>\n",
       "    <tr>\n",
       "      <th>5995</th>\n",
       "      <td>1</td>\n",
       "      <td>6</td>\n",
       "      <td>2</td>\n",
       "    </tr>\n",
       "    <tr>\n",
       "      <th>5996</th>\n",
       "      <td>3</td>\n",
       "      <td>17</td>\n",
       "      <td>3</td>\n",
       "    </tr>\n",
       "    <tr>\n",
       "      <th>5997</th>\n",
       "      <td>3</td>\n",
       "      <td>6</td>\n",
       "      <td>5</td>\n",
       "    </tr>\n",
       "    <tr>\n",
       "      <th>5998</th>\n",
       "      <td>2</td>\n",
       "      <td>13</td>\n",
       "      <td>-5</td>\n",
       "    </tr>\n",
       "  </tbody>\n",
       "</table>\n",
       "<p>5999 rows × 3 columns</p>\n",
       "</div>"
      ],
      "text/plain": [
       "      Day_of_Week  Hour  Passasjerer_Ombord\n",
       "0               0    10                   5\n",
       "1               5    13                   5\n",
       "2               0    10                   6\n",
       "3               0    13                  10\n",
       "4               3     7                  10\n",
       "...           ...   ...                 ...\n",
       "5994            2    16                   2\n",
       "5995            1     6                   2\n",
       "5996            3    17                   3\n",
       "5997            3     6                   5\n",
       "5998            2    13                  -5\n",
       "\n",
       "[5999 rows x 3 columns]"
      ]
     },
     "execution_count": 56,
     "metadata": {},
     "output_type": "execute_result"
    }
   ],
   "source": [
    "# Helper functions for formatting date correctly, and fixing time\n",
    "def format_date(date) : \n",
    "    d, m, y = map(int, date.split('/'))\n",
    "    return pd.Timestamp(day=d, month=m, year=y)\n",
    "\n",
    "def actual_date(hour, date) :\n",
    "    if hour > 23:\n",
    "        act_date = format_date(date) + pd.Timedelta('1 days')\n",
    "        act_hour = hour % 24\n",
    "    else:\n",
    "        act_date = format_date(date)\n",
    "        act_hour = hour\n",
    "        \n",
    "    return (act_date, act_hour)\n",
    "   \n",
    "\n",
    "# temporary storage of dates and hours in regular 24 hour time\n",
    "actual_time = {'Dato' : [], 'Hour' : []}\n",
    "\n",
    "# Iterate through all entries, \n",
    "for i in range(len(pad)) :\n",
    "    d, h = actual_date(pad['Hour'][i], pad['Dato'][i])\n",
    "    actual_time['Dato'].append(d)\n",
    "    actual_time['Hour'].append(h)\n",
    "    \n",
    "# We replace the entire date column with these newly calculated dates\n",
    "# We do the same for the hour column\n",
    "pad = pad.assign(Dato=actual_time['Dato'])\n",
    "pad = pad.assign(Hour=actual_time['Hour'])\n",
    "\n",
    "# When inserting the day of week, we need to be careful and get our data from the temporary storage\n",
    "pad.insert(4, 'Day_of_Week', [actual_time['Dato'][i].dayofweek for i in range(len(pad))], True)\n",
    "df = pad[['Day_of_Week', 'Hour', 'Passasjerer_Ombord']]\n",
    "df"
   ]
  },
  {
   "cell_type": "markdown",
   "metadata": {},
   "source": [
    "Now that we have our data ready, lets look for some outliers"
   ]
  },
  {
   "cell_type": "code",
   "execution_count": 57,
   "metadata": {},
   "outputs": [
    {
     "data": {
      "text/plain": [
       "count    5999.000000\n",
       "mean        4.509918\n",
       "std         6.732506\n",
       "min       -39.000000\n",
       "25%         0.000000\n",
       "50%         3.000000\n",
       "75%         7.000000\n",
       "max        64.000000\n",
       "Name: Passasjerer_Ombord, dtype: float64"
      ]
     },
     "execution_count": 57,
     "metadata": {},
     "output_type": "execute_result"
    }
   ],
   "source": [
    "df.Passasjerer_Ombord.describe()"
   ]
  },
  {
   "cell_type": "code",
   "execution_count": 58,
   "metadata": {},
   "outputs": [
    {
     "data": {
      "image/png": "[encoded data removed]",
      "text/plain": [
       "<Figure size 432x288 with 1 Axes>"
      ]
     },
     "metadata": {
      "needs_background": "light"
     },
     "output_type": "display_data"
    }
   ],
   "source": [
    "plot.hist(df.Passasjerer_Ombord, bins=25)\n",
    "plot.xlabel('number of passengers entering at a certian stop')\n",
    "plot.ylabel('Frequency')\n",
    "plot.show()"
   ]
  },
  {
   "cell_type": "markdown",
   "metadata": {},
   "source": [
    "Although we have som data as low as negative forty and as high as sixty, we see the overwhelming majority of entries lies between -20 and 40. Lets focus on that data."
   ]
  },
  {
   "cell_type": "code",
   "execution_count": 59,
   "metadata": {},
   "outputs": [
    {
     "data": {
      "text/plain": [
       "(-15.0, 28.0)"
      ]
     },
     "execution_count": 59,
     "metadata": {},
     "output_type": "execute_result"
    }
   ],
   "source": [
    "lower, upper = df.Passasjerer_Ombord.quantile([0.0035, 0.99])\n",
    "lower, upper"
   ]
  },
  {
   "cell_type": "markdown",
   "metadata": {},
   "source": [
    "Cutting out the bottom 0.35 and the top 1 percentile seems to do just that"
   ]
  },
  {
   "cell_type": "code",
   "execution_count": 60,
   "metadata": {},
   "outputs": [
    {
     "data": {
      "text/plain": [
       "Text(0, 0.5, 'Frequency')"
      ]
     },
     "execution_count": 60,
     "metadata": {},
     "output_type": "execute_result"
    },
    {
     "data": {
      "image/png": "[encoded data removed]",
      "text/plain": [
       "<Figure size 432x288 with 1 Axes>"
      ]
     },
     "metadata": {
      "needs_background": "light"
     },
     "output_type": "display_data"
    }
   ],
   "source": [
    "# Removing data under lower and above upper bound\n",
    "cut_df = df[(df.Passasjerer_Ombord > lower) & (df.Passasjerer_Ombord < upper)]\n",
    "plot.hist(cut_df.Passasjerer_Ombord, bins=25)\n",
    "plot.xlabel('number of passengers entering at a certian stop')\n",
    "plot.ylabel('Frequency')"
   ]
  },
  {
   "cell_type": "code",
   "execution_count": 61,
   "metadata": {},
   "outputs": [
    {
     "data": {
      "text/plain": [
       "Text(0, 0.5, 'Frequency')"
      ]
     },
     "execution_count": 61,
     "metadata": {},
     "output_type": "execute_result"
    },
    {
     "data": {
      "image/png": "[encoded data removed]",
      "text/plain": [
       "<Figure size 432x288 with 1 Axes>"
      ]
     },
     "metadata": {
      "needs_background": "light"
     },
     "output_type": "display_data"
    }
   ],
   "source": [
    "# Removing data other than hours 06 - 21\n",
    "workh_df = cut_df[(cut_df.Hour >= 6) & (cut_df.Hour <= 21)]\n",
    "plot.hist(workh_df.Passasjerer_Ombord, bins=25)\n",
    "plot.xlabel('number of passengers entering at a certian stop')\n",
    "plot.ylabel('Frequency')"
   ]
  },
  {
   "cell_type": "code",
   "execution_count": 62,
   "metadata": {},
   "outputs": [
    {
     "data": {
      "text/plain": [
       "Text(0.5, 1.0, 'Average passenger entering stop per hour per day of week')"
      ]
     },
     "execution_count": 62,
     "metadata": {},
     "output_type": "execute_result"
    },
    {
     "data": {
      "image/png": "[encoded data removed]",
      "text/plain": [
       "<Figure size 648x432 with 2 Axes>"
      ]
     },
     "metadata": {
      "needs_background": "light"
     },
     "output_type": "display_data"
    }
   ],
   "source": [
    "# We craete a pivot plot with the three axis of data we have\n",
    "pv = pd.pivot_table(workh_df, index='Hour', columns='Day_of_Week', values='Passasjerer_Ombord')\n",
    "\n",
    "# We plot it\n",
    "f, ax = plot.subplots(figsize=(9, 6))\n",
    "sns.heatmap(pv)\n",
    "ax.set_xticklabels(['Mon', 'Tue', 'Wed', 'Thu', 'Fri', 'Sat', 'Sun'])\n",
    "ax.set_xlabel('Day of Week')\n",
    "ax.invert_yaxis()\n",
    "ax.set_title('Average passenger entering stop per hour per day of week')"
   ]
  },
  {
   "cell_type": "code",
   "execution_count": null,
   "metadata": {},
   "outputs": [],
   "source": []
  }
 ],
 "metadata": {
  "kernelspec": {
   "display_name": "Python 3",
   "language": "python",
   "name": "python3"
  },
  "language_info": {
   "codemirror_mode": {
    "name": "ipython",
    "version": 3
   },
   "file_extension": ".py",
   "mimetype": "text/x-python",
   "name": "python",
   "nbconvert_exporter": "python",
   "pygments_lexer": "ipython3",
   "version": "3.8.5"
  }
 },
 "nbformat": 4,
 "nbformat_minor": 4
}
